{
 "cells": [
  {
   "cell_type": "markdown",
   "metadata": {},
   "source": [
    "## Tuning MyRandomForestClassifier Parameters\n",
    "I will be tuning the classifier parameters (N, M, F) for the interview dataset."
   ]
  },
  {
   "cell_type": "code",
   "execution_count": 1,
   "metadata": {},
   "outputs": [],
   "source": [
    "import mysklearn.myevaluation as myevaluation\n",
    "import os\n",
    "from mysklearn.mypytable import MyPyTable\n",
    "from mysklearn.myclassifiers import MyZeroRClassifier\n",
    "import mysklearn.myutils as myutils"
   ]
  },
  {
   "cell_type": "markdown",
   "metadata": {},
   "source": [
    "### The Interview Dataset"
   ]
  },
  {
   "cell_type": "code",
   "execution_count": 2,
   "metadata": {},
   "outputs": [],
   "source": [
    "fname = os.path.join(\"input_data\", \"joined_data.csv\")\n",
    "table = MyPyTable().load_from_file(fname)\n",
    "\n",
    "# year_start, height, weight, position -> season17_18\n",
    "year_start_col = table.get_column(\"year_start\", True)\n",
    "height_col = table.get_column(\"height\", True)\n",
    "weight_col = table.get_discretized_column(myutils.transform_player_weight, \"weight\")\n",
    "position_col = table.get_column(\"position\", True)\n",
    "salary_col = table.get_discretized_column(myutils.transform_salary, \"season17_18\")\n",
    "table = [[year_start_col[i], height_col[i], weight_col[i], position_col[i], salary_col[i]] for i in range(len(salary_col))]"
   ]
  },
  {
   "cell_type": "markdown",
   "metadata": {},
   "source": [
    "### Zero R Classifier"
   ]
  },
  {
   "cell_type": "code",
   "execution_count": 3,
   "metadata": {},
   "outputs": [
    {
     "name": "stdout",
     "output_type": "stream",
     "text": [
      "Zero R Accuracy: 42%\n"
     ]
    }
   ],
   "source": [
    "zr_classifier = MyZeroRClassifier()\n",
    "X = [row[:-1] for row in table]\n",
    "y = [row[-1] for row in table]\n",
    "X_train, X_test, y_train, y_test = myevaluation.train_test_split(X, y)\n",
    "zr_classifier.fit(X_train, y_train)\n",
    "y_predicted = zr_classifier.predict(X_test)\n",
    "\n",
    "matrix = myevaluation.confusion_matrix(y_predicted, y_test, [i for i in range(1, 6)])\n",
    "accuracy = myutils.calculate_accuracy(matrix)\n",
    "error_rate = myutils.calculate_error_rate(matrix)\n",
    "print(\"Zero R Accuracy: {}%\".format(int(accuracy * 100)))"
   ]
  },
  {
   "cell_type": "markdown",
   "metadata": {},
   "source": [
    "### Default: N = 20, M = 7, F = 2"
   ]
  },
  {
   "cell_type": "code",
   "execution_count": 12,
   "metadata": {},
   "outputs": [
    {
     "name": "stdout",
     "output_type": "stream",
     "text": [
      "N = 20, M = 7, F = 2: 46% Correct\n"
     ]
    }
   ],
   "source": [
    "myevaluation.tune_parameters([20, 21], [7, 8], [2, 3], table)"
   ]
  },
  {
   "cell_type": "markdown",
   "metadata": {},
   "source": [
    "### Tuning for N: 50 to 200, M: 3 to 20, F: 2 to 4"
   ]
  },
  {
   "cell_type": "code",
   "execution_count": 5,
   "metadata": {},
   "outputs": [
    {
     "name": "stdout",
     "output_type": "stream",
     "text": [
      "N = 80, M = 7, F = 3: 53% Correct\n"
     ]
    }
   ],
   "source": [
    "#myevaluation.tune_parameters([50, 201], [3, 20], [2, 5], table)\n",
    "print(\"N = 80, M = 7, F = 3: 53% Correct\")"
   ]
  },
  {
   "cell_type": "markdown",
   "metadata": {},
   "source": [
    "### Tuned: N = 80, M = 7, F = 3"
   ]
  },
  {
   "cell_type": "code",
   "execution_count": 16,
   "metadata": {},
   "outputs": [
    {
     "name": "stdout",
     "output_type": "stream",
     "text": [
      "N = 80, M = 7, F = 3: 48% Correct\n"
     ]
    }
   ],
   "source": [
    "myevaluation.tune_parameters([80, 81], [7, 8], [3, 4], table)"
   ]
  }
 ],
 "metadata": {
  "kernelspec": {
   "display_name": "Python 3",
   "language": "python",
   "name": "python3"
  },
  "language_info": {
   "codemirror_mode": {
    "name": "ipython",
    "version": 3
   },
   "file_extension": ".py",
   "mimetype": "text/x-python",
   "name": "python",
   "nbconvert_exporter": "python",
   "pygments_lexer": "ipython3",
   "version": "3.8.5"
  }
 },
 "nbformat": 4,
 "nbformat_minor": 4
}
