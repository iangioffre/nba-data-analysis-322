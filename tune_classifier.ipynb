{
 "cells": [
  {
   "cell_type": "markdown",
   "metadata": {},
   "source": [
    "## Tuning MyRandomForestClassifier Parameters\n",
    "I will be tuning the classifier parameters (N, M, F) for the interview dataset."
   ]
  },
  {
   "cell_type": "code",
   "execution_count": 1,
   "metadata": {},
   "outputs": [],
   "source": [
    "import mysklearn.myevaluation as myevaluation"
   ]
  },
  {
   "cell_type": "markdown",
   "metadata": {},
   "source": [
    "### The Interview Dataset"
   ]
  },
  {
   "cell_type": "code",
   "execution_count": 2,
   "metadata": {},
   "outputs": [],
   "source": [
    "interview_header = [\"level\", \"lang\", \"tweets\", \"phd\", \"interviewed_well\"]\n",
    "interview_table = [\n",
    "    [\"Senior\", \"Java\", \"no\", \"no\", \"False\"],\n",
    "    [\"Senior\", \"Java\", \"no\", \"yes\", \"False\"],\n",
    "    [\"Mid\", \"Python\", \"no\", \"no\", \"True\"],\n",
    "    [\"Junior\", \"Python\", \"no\", \"no\", \"True\"],\n",
    "    [\"Junior\", \"R\", \"yes\", \"no\", \"True\"],\n",
    "    [\"Junior\", \"R\", \"yes\", \"yes\", \"False\"],\n",
    "    [\"Mid\", \"R\", \"yes\", \"yes\", \"True\"],\n",
    "    [\"Senior\", \"Python\", \"no\", \"no\", \"False\"],\n",
    "    [\"Senior\", \"R\", \"yes\", \"no\", \"True\"],\n",
    "    [\"Junior\", \"Python\", \"yes\", \"no\", \"True\"],\n",
    "    [\"Senior\", \"Python\", \"yes\", \"yes\", \"True\"],\n",
    "    [\"Mid\", \"Python\", \"no\", \"yes\", \"True\"],\n",
    "    [\"Mid\", \"Java\", \"yes\", \"no\", \"True\"],\n",
    "    [\"Junior\", \"Python\", \"no\", \"yes\", \"False\"]\n",
    "]"
   ]
  },
  {
   "cell_type": "markdown",
   "metadata": {},
   "source": [
    "### Default: N = 20, M = 7, F = 2"
   ]
  },
  {
   "cell_type": "code",
   "execution_count": 3,
   "metadata": {},
   "outputs": [
    {
     "name": "stdout",
     "output_type": "stream",
     "text": [
      "N = 20, M = 7, F = 2: 50.0% Correct\n"
     ]
    }
   ],
   "source": [
    "myevaluation.tune_parameters([20, 21], [7, 8], [2, 3], interview_table)"
   ]
  },
  {
   "cell_type": "markdown",
   "metadata": {},
   "source": [
    "### Tuning for N: 50 to 200, M: 3 to 20, F: 2 to 4"
   ]
  },
  {
   "cell_type": "code",
   "execution_count": 4,
   "metadata": {},
   "outputs": [
    {
     "name": "stdout",
     "output_type": "stream",
     "text": [
      "N = 96, M = 16, F = 4: 88.0% Correct\n"
     ]
    }
   ],
   "source": [
    "myevaluation.tune_parameters([50, 201], [3, 20], [2, 5], interview_table)"
   ]
  },
  {
   "cell_type": "markdown",
   "metadata": {},
   "source": [
    "### Tuned: N = 96, M = 16, F = 4"
   ]
  },
  {
   "cell_type": "code",
   "execution_count": 26,
   "metadata": {},
   "outputs": [
    {
     "name": "stdout",
     "output_type": "stream",
     "text": [
      "N = 96, M = 16, F = 4: 66.0% Correct\n"
     ]
    }
   ],
   "source": [
    "myevaluation.tune_parameters([96, 97], [16, 17], [4, 5], interview_table)"
   ]
  }
 ],
 "metadata": {
  "kernelspec": {
   "display_name": "Python 3",
   "language": "python",
   "name": "python3"
  },
  "language_info": {
   "codemirror_mode": {
    "name": "ipython",
    "version": 3
   },
   "file_extension": ".py",
   "mimetype": "text/x-python",
   "name": "python",
   "nbconvert_exporter": "python",
   "pygments_lexer": "ipython3",
   "version": "3.8.5"
  }
 },
 "nbformat": 4,
 "nbformat_minor": 4
}
