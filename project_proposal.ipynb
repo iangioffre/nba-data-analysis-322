{
 "cells": [
  {
   "cell_type": "markdown",
   "metadata": {},
   "source": [
    "# Project Proposal\n",
    "\n",
    "### Team Members\n",
    "The team members on this project are Ian Gioffre and Benen Dufresne.\n",
    "\n",
    "### Dataset Description\n",
    "Both datasets were found on Kaggle.com. These two datasets from thatdataanalyst and Omri Goldstein will be joined together to form a new dataset with salary and other information for NBA players. Both datasets are csv files with a variety of information on many players.  \n",
    "Data in these datasets include name, salary, start year, height, weight, and college. We will be classifying each player into buckets based on salary ranges. \n",
    "\n",
    "Sources:  \n",
    "https://www.kaggle.com/koki25ando/salary  \n",
    "https://www.kaggle.com/drgilermo/nba-players-stats\n",
    "\n",
    "### Implementation\n",
    "One challenge we expect is pre-processing the data because there are two datasets. We need to join the data together to get the a resultant dataset with the desired attributes. We will also need to define salary ranges for classification purposes. Our data does not have a large amount of attributes, but we will not need to use all of them. We will probably pre-process the data to remove these columns. \n",
    "\n",
    "### Potential Impact of Results\n",
    "These results can be used to figure out which college could be most profitable, or if one's height/weight is a desirable mix for the NBA.  \n",
    "The stakeholders for this project could be NBA fans with a fascination for data or up and coming basketball players who wish to figure out next steps for their basketball career. "
   ]
  }
 ],
 "metadata": {
  "kernelspec": {
   "display_name": "Python 3",
   "language": "python",
   "name": "python3"
  },
  "language_info": {
   "codemirror_mode": {
    "name": "ipython",
    "version": 3
   },
   "file_extension": ".py",
   "mimetype": "text/x-python",
   "name": "python",
   "nbconvert_exporter": "python",
   "pygments_lexer": "ipython3",
   "version": "3.8.5"
  }
 },
 "nbformat": 4,
 "nbformat_minor": 4
}
