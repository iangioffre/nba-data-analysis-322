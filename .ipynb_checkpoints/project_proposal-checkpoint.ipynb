{
 "cells": [
  {
   "cell_type": "markdown",
   "metadata": {},
   "source": [
    "# Project Proposal\n",
    "\n",
    "### Team Members\n",
    "The team members on this project are Ian Gioffre and Benen Dufresne.\n",
    "\n",
    "### Dataset Description\n",
    "Both datasets were found on Kaggle.com. These two datasets from thatdataanalyst and Omri Goldstein will be joined together to form a new dataset with salary and other information for NBA players. Both datasets are csv files with a variety of information on many players.  \n",
    "Data in these datasets include name, salary, start year, height, weight, and college. We will be classifying each player into buckets based on salary ranges. \n",
    "\n",
    "Sources:  \n",
    "https://www.kaggle.com/koki25ando/salary  \n",
    "https://www.kaggle.com/drgilermo/nba-players-stats\n",
    "\n",
    "### Implementation\n",
    "\n",
    "\n",
    "### Potential Impact of Results"
   ]
  }
 ],
 "metadata": {
  "kernelspec": {
   "display_name": "Python 3",
   "language": "python",
   "name": "python3"
  },
  "language_info": {
   "codemirror_mode": {
    "name": "ipython",
    "version": 3
   },
   "file_extension": ".py",
   "mimetype": "text/x-python",
   "name": "python",
   "nbconvert_exporter": "python",
   "pygments_lexer": "ipython3",
   "version": "3.8.5"
  }
 },
 "nbformat": 4,
 "nbformat_minor": 4
}
